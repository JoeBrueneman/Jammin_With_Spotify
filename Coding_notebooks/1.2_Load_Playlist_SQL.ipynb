{
 "cells": [
  {
   "cell_type": "code",
   "execution_count": null,
   "id": "94d8b7c9-bbe0-49e2-b7a5-60aff73f46e4",
   "metadata": {},
   "outputs": [],
   "source": [
    "from sqlalchemy import URL\n",
    "\n",
    "url_object = URL.create(\n",
    "    \"postgresql\",\n",
    "    username=\"------\",\n",
    "    password=\"-------\", \n",
    "    host=\"----------\",\n",
    "    database=\"--------\",\n",
    ")"
   ]
  },
  {
   "cell_type": "code",
   "execution_count": null,
   "id": "3a92da36-dd6e-4026-90a1-a01e36ef0c12",
   "metadata": {},
   "outputs": [],
   "source": [
    "from sqlalchemy import create_engine\n",
    "\n",
    "conn = create_engine(url_object).connect()"
   ]
  },
  {
   "cell_type": "code",
   "execution_count": null,
   "id": "1bcbd9e5-fc35-4863-a550-0188a12ae99e",
   "metadata": {},
   "outputs": [],
   "source": [
    "import pandas as pd\n",
    "\n",
    "# Request the `track_features` table \n",
    "playlist_df = pd.read_sql_table(\"playlist\", conn)"
   ]
  },
  {
   "cell_type": "code",
   "execution_count": null,
   "id": "5c7587e8-c291-4fca-92a2-2f863499c6b9",
   "metadata": {},
   "outputs": [],
   "source": [
    "# Write `track_features_df` to csv file\n",
    "playlist_df.to_csv('Resources/playlist.csv')"
   ]
  },
  {
   "cell_type": "code",
   "execution_count": null,
   "id": "915bea19-983e-4b40-b69e-c360fac38b65",
   "metadata": {},
   "outputs": [],
   "source": [
    "conn.close()"
   ]
  }
 ],
 "metadata": {
  "kernelspec": {
   "display_name": "Python 3 (ipykernel)",
   "language": "python",
   "name": "python3"
  },
  "language_info": {
   "codemirror_mode": {
    "name": "ipython",
    "version": 3
   },
   "file_extension": ".py",
   "mimetype": "text/x-python",
   "name": "python",
   "nbconvert_exporter": "python",
   "pygments_lexer": "ipython3",
   "version": "3.11.4"
  }
 },
 "nbformat": 4,
 "nbformat_minor": 5
}
