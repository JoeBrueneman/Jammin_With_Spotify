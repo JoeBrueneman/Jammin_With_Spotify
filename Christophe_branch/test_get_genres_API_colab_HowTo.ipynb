{
 "cells": [
  {
   "cell_type": "markdown",
   "metadata": {},
   "source": [
    "To be run in Google Colab\n",
    "\n",
    "Upload _tracks_URI.csv_\n",
    "(do not reorder the file)"
   ]
  },
  {
   "cell_type": "code",
   "execution_count": 1,
   "metadata": {},
   "outputs": [
    {
     "name": "stdout",
     "output_type": "stream",
     "text": [
      "Requirement already satisfied: spotipy in c:\\users\\christophe\\anaconda3\\envs\\dev\\lib\\site-packages (2.23.0)\n",
      "Requirement already satisfied: redis>=3.5.3 in c:\\users\\christophe\\anaconda3\\envs\\dev\\lib\\site-packages (from spotipy) (5.0.1)\n",
      "Requirement already satisfied: requests>=2.25.0 in c:\\users\\christophe\\anaconda3\\envs\\dev\\lib\\site-packages (from spotipy) (2.31.0)\n",
      "Requirement already satisfied: six>=1.15.0 in c:\\users\\christophe\\anaconda3\\envs\\dev\\lib\\site-packages (from spotipy) (1.16.0)\n",
      "Requirement already satisfied: urllib3>=1.26.0 in c:\\users\\christophe\\anaconda3\\envs\\dev\\lib\\site-packages (from spotipy) (1.26.16)\n",
      "Requirement already satisfied: async-timeout>=4.0.2 in c:\\users\\christophe\\anaconda3\\envs\\dev\\lib\\site-packages (from redis>=3.5.3->spotipy) (4.0.2)\n",
      "Requirement already satisfied: charset-normalizer<4,>=2 in c:\\users\\christophe\\anaconda3\\envs\\dev\\lib\\site-packages (from requests>=2.25.0->spotipy) (2.0.4)\n",
      "Requirement already satisfied: idna<4,>=2.5 in c:\\users\\christophe\\anaconda3\\envs\\dev\\lib\\site-packages (from requests>=2.25.0->spotipy) (3.4)\n",
      "Requirement already satisfied: certifi>=2017.4.17 in c:\\users\\christophe\\anaconda3\\envs\\dev\\lib\\site-packages (from requests>=2.25.0->spotipy) (2023.11.17)\n"
     ]
    },
    {
     "name": "stderr",
     "output_type": "stream",
     "text": [
      "WARNING: Ignoring invalid distribution -yspark (c:\\users\\christophe\\anaconda3\\envs\\dev\\lib\\site-packages)\n",
      "WARNING: Ignoring invalid distribution -yspark (c:\\users\\christophe\\anaconda3\\envs\\dev\\lib\\site-packages)\n",
      "WARNING: There was an error checking the latest version of pip.\n"
     ]
    }
   ],
   "source": [
    "# To run the first time then to change to comment\n",
    "# Install Spotipy \n",
    "!pip install spotipy --upgrade"
   ]
  },
  {
   "cell_type": "code",
   "execution_count": 2,
   "metadata": {},
   "outputs": [
    {
     "name": "stdout",
     "output_type": "stream",
     "text": [
      "Name: spotipy\n",
      "Version: 2.23.0\n",
      "Summary: A light weight Python library for the Spotify Web API\n",
      "Home-page: https://spotipy.readthedocs.org/\n",
      "Author: @plamere\n",
      "Author-email: paul@echonest.com\n",
      "License: MIT\n",
      "Location: c:\\users\\christophe\\anaconda3\\envs\\dev\\lib\\site-packages\n",
      "Requires: redis, requests, six, urllib3\n",
      "Required-by: \n"
     ]
    },
    {
     "name": "stderr",
     "output_type": "stream",
     "text": [
      "WARNING: Ignoring invalid distribution -yspark (c:\\users\\christophe\\anaconda3\\envs\\dev\\lib\\site-packages)\n"
     ]
    }
   ],
   "source": [
    "# To run the first time then to change to comment\n",
    "# Check the installation of Spotipy\n",
    "!pip show spotipy"
   ]
  },
  {
   "cell_type": "code",
   "execution_count": 3,
   "metadata": {},
   "outputs": [],
   "source": [
    "import spotipy\n",
    "from spotipy.oauth2 import SpotifyClientCredentials\n",
    "import pandas as pd\n",
    "import json\n",
    "import csv\n",
    "import time\n",
    "from IPython.display import clear_output\n",
    "import os\n"
   ]
  },
  {
   "cell_type": "markdown",
   "metadata": {},
   "source": [
    "Create a developper account on Spotify\n",
    "(Check Spotify_setup1.png. Once saved click on \"settings\" to access keys like on Spotify_setup2.png)\n",
    "\n",
    "The app name is irrelevant"
   ]
  },
  {
   "cell_type": "code",
   "execution_count": null,
   "metadata": {},
   "outputs": [],
   "source": [
    "os.environ['SPOTIPY_CLIENT_ID']='enter_yourClient_ID_key_here'  # \"SPOTIPY\" is not a typo\n",
    "os.environ['SPOTIPY_CLIENT_SECRET']='enter_your_Client)secret_key_here'\n",
    "os.environ['SPOTIPY_REDIRECT_URI']='http://localhost:3000'"
   ]
  },
  {
   "cell_type": "code",
   "execution_count": 4,
   "metadata": {},
   "outputs": [],
   "source": [
    "# Read the track_ids as a flat list\n",
    "with open('artist_uri_sorted.csv', newline='') as csv_file:\n",
    "    reader = csv.reader(csv_file, delimiter=',')\n",
    "    artist_list = []\n",
    "    for _ in reader:\n",
    "        artist_list.append(_[0])\n"
   ]
  },
  {
   "cell_type": "code",
   "execution_count": 5,
   "metadata": {},
   "outputs": [],
   "source": [
    "# Create the session with Spotify\n",
    "spotify = spotipy.Spotify(client_credentials_manager=SpotifyClientCredentials())\n",
    "\n"
   ]
  },
  {
   "cell_type": "code",
   "execution_count": 6,
   "metadata": {},
   "outputs": [],
   "source": [
    "# Create the initial empty dataframe. Must be commented once it is not empty anymore or the data will be lost\n",
    "artists_features_df=pd.DataFrame()"
   ]
  },
  {
   "cell_type": "code",
   "execution_count": 4,
   "metadata": {},
   "outputs": [],
   "source": [
    "# To be run after a reboot to continue from the already existing dataframe \n",
    "# tracks_features_df=pd.read_csv('artists_genres.csv')  # needs to match the name in the one-before-last cell"
   ]
  },
  {
   "cell_type": "code",
   "execution_count": 9,
   "metadata": {},
   "outputs": [],
   "source": [
    "# The first number defines the beginning of the slice of tracks to be queried\n",
    "# The second number is the length of the existing dataframe after the last timeout/Server_Disconnect\n",
    "a=0 + 0  # In this example, the slice will start at 0\n",
    "\n",
    "# This is the end of the slice of tracks to be queried\n",
    "b=295860 # b=295860 is the max value when doing the last slice"
   ]
  },
  {
   "cell_type": "code",
   "execution_count": 20,
   "metadata": {},
   "outputs": [
    {
     "name": "stdout",
     "output_type": "stream",
     "text": [
      "50\n"
     ]
    }
   ],
   "source": [
    "\n",
    "for i in range(a,b,50):\n",
    "    x=artist_list[i:i+50]\n",
    "    results = spotify.artists(x)\n",
    "    for j in range(0,50):\n",
    "        df_dictionary = pd.DataFrame([results['artists'][j]])\n",
    "        artists_features_df = pd.concat([artists_features_df, df_dictionary], ignore_index=True)\n",
    "    print(i)\n",
    "    clear_output(wait=True)\n",
    "    time.sleep(1)\n",
    "\n",
    "# The error \"Max Retries reached\" will eventually happen\n",
    "# Sometime you can restart after sometime\n",
    "# You also may have create a new app and change the keys before reinitializing the spotify = spotipy.Spotify(***) session\n",
    "# You may also have to create a new Spotify User account.\n",
    "# Spotify seems to check more than which user and which app is querying (do they track hardware?)\n",
    "# that is why running on Colab is better. It is also faster and you can change the keys without having to reboot your computer."
   ]
  },
  {
   "cell_type": "code",
   "execution_count": 21,
   "metadata": {},
   "outputs": [
    {
     "data": {
      "text/html": [
       "<div>\n",
       "<style scoped>\n",
       "    .dataframe tbody tr th:only-of-type {\n",
       "        vertical-align: middle;\n",
       "    }\n",
       "\n",
       "    .dataframe tbody tr th {\n",
       "        vertical-align: top;\n",
       "    }\n",
       "\n",
       "    .dataframe thead th {\n",
       "        text-align: right;\n",
       "    }\n",
       "</style>\n",
       "<table border=\"1\" class=\"dataframe\">\n",
       "  <thead>\n",
       "    <tr style=\"text-align: right;\">\n",
       "      <th></th>\n",
       "      <th>external_urls</th>\n",
       "      <th>followers</th>\n",
       "      <th>genres</th>\n",
       "      <th>href</th>\n",
       "      <th>id</th>\n",
       "      <th>images</th>\n",
       "      <th>name</th>\n",
       "      <th>popularity</th>\n",
       "      <th>type</th>\n",
       "      <th>uri</th>\n",
       "    </tr>\n",
       "  </thead>\n",
       "  <tbody>\n",
       "    <tr>\n",
       "      <th>0</th>\n",
       "      <td>{'spotify': 'https://open.spotify.com/artist/3...</td>\n",
       "      <td>{'href': None, 'total': 84055324}</td>\n",
       "      <td>[canadian hip hop, canadian pop, hip hop, pop ...</td>\n",
       "      <td>https://api.spotify.com/v1/artists/3TVXtAsR1In...</td>\n",
       "      <td>3TVXtAsR1Inumwj472S9r4</td>\n",
       "      <td>[{'height': 640, 'url': 'https://i.scdn.co/ima...</td>\n",
       "      <td>Drake</td>\n",
       "      <td>96</td>\n",
       "      <td>artist</td>\n",
       "      <td>spotify:artist:3TVXtAsR1Inumwj472S9r4</td>\n",
       "    </tr>\n",
       "    <tr>\n",
       "      <th>1</th>\n",
       "      <td>{'spotify': 'https://open.spotify.com/artist/5...</td>\n",
       "      <td>{'href': None, 'total': 23776154}</td>\n",
       "      <td>[chicago rap, hip hop, rap]</td>\n",
       "      <td>https://api.spotify.com/v1/artists/5K4W6rqBFWD...</td>\n",
       "      <td>5K4W6rqBFWDnAN6FQUkS6x</td>\n",
       "      <td>[{'height': 640, 'url': 'https://i.scdn.co/ima...</td>\n",
       "      <td>Kanye West</td>\n",
       "      <td>94</td>\n",
       "      <td>artist</td>\n",
       "      <td>spotify:artist:5K4W6rqBFWDnAN6FQUkS6x</td>\n",
       "    </tr>\n",
       "    <tr>\n",
       "      <th>2</th>\n",
       "      <td>{'spotify': 'https://open.spotify.com/artist/2...</td>\n",
       "      <td>{'href': None, 'total': 26781399}</td>\n",
       "      <td>[conscious hip hop, hip hop, rap, west coast rap]</td>\n",
       "      <td>https://api.spotify.com/v1/artists/2YZyLoL8N0W...</td>\n",
       "      <td>2YZyLoL8N0Wb9xBt1NhZWg</td>\n",
       "      <td>[{'height': 640, 'url': 'https://i.scdn.co/ima...</td>\n",
       "      <td>Kendrick Lamar</td>\n",
       "      <td>88</td>\n",
       "      <td>artist</td>\n",
       "      <td>spotify:artist:2YZyLoL8N0Wb9xBt1NhZWg</td>\n",
       "    </tr>\n",
       "    <tr>\n",
       "      <th>3</th>\n",
       "      <td>{'spotify': 'https://open.spotify.com/artist/5...</td>\n",
       "      <td>{'href': None, 'total': 58145352}</td>\n",
       "      <td>[barbadian pop, pop, urban contemporary]</td>\n",
       "      <td>https://api.spotify.com/v1/artists/5pKCCKE2ajJ...</td>\n",
       "      <td>5pKCCKE2ajJHZ9KAiaK11H</td>\n",
       "      <td>[{'height': 640, 'url': 'https://i.scdn.co/ima...</td>\n",
       "      <td>Rihanna</td>\n",
       "      <td>90</td>\n",
       "      <td>artist</td>\n",
       "      <td>spotify:artist:5pKCCKE2ajJHZ9KAiaK11H</td>\n",
       "    </tr>\n",
       "    <tr>\n",
       "      <th>4</th>\n",
       "      <td>{'spotify': 'https://open.spotify.com/artist/1...</td>\n",
       "      <td>{'href': None, 'total': 79100712}</td>\n",
       "      <td>[canadian contemporary r&amp;b, canadian pop, pop]</td>\n",
       "      <td>https://api.spotify.com/v1/artists/1Xyo4u8uXC1...</td>\n",
       "      <td>1Xyo4u8uXC1ZmMpatF05PJ</td>\n",
       "      <td>[{'height': 640, 'url': 'https://i.scdn.co/ima...</td>\n",
       "      <td>The Weeknd</td>\n",
       "      <td>95</td>\n",
       "      <td>artist</td>\n",
       "      <td>spotify:artist:1Xyo4u8uXC1ZmMpatF05PJ</td>\n",
       "    </tr>\n",
       "    <tr>\n",
       "      <th>...</th>\n",
       "      <td>...</td>\n",
       "      <td>...</td>\n",
       "      <td>...</td>\n",
       "      <td>...</td>\n",
       "      <td>...</td>\n",
       "      <td>...</td>\n",
       "      <td>...</td>\n",
       "      <td>...</td>\n",
       "      <td>...</td>\n",
       "      <td>...</td>\n",
       "    </tr>\n",
       "    <tr>\n",
       "      <th>95</th>\n",
       "      <td>{'spotify': 'https://open.spotify.com/artist/6...</td>\n",
       "      <td>{'href': None, 'total': 25921706}</td>\n",
       "      <td>[pop, post-teen pop]</td>\n",
       "      <td>https://api.spotify.com/v1/artists/6S2OmqARrze...</td>\n",
       "      <td>6S2OmqARrzebs0tKUEyXyp</td>\n",
       "      <td>[{'height': 640, 'url': 'https://i.scdn.co/ima...</td>\n",
       "      <td>Demi Lovato</td>\n",
       "      <td>77</td>\n",
       "      <td>artist</td>\n",
       "      <td>spotify:artist:6S2OmqARrzebs0tKUEyXyp</td>\n",
       "    </tr>\n",
       "    <tr>\n",
       "      <th>96</th>\n",
       "      <td>{'spotify': 'https://open.spotify.com/artist/1...</td>\n",
       "      <td>{'href': None, 'total': 9880892}</td>\n",
       "      <td>[art pop, metropopolis, nz pop, pop]</td>\n",
       "      <td>https://api.spotify.com/v1/artists/163tK9Wjr9P...</td>\n",
       "      <td>163tK9Wjr9P9DmM0AVK7lm</td>\n",
       "      <td>[{'height': 640, 'url': 'https://i.scdn.co/ima...</td>\n",
       "      <td>Lorde</td>\n",
       "      <td>75</td>\n",
       "      <td>artist</td>\n",
       "      <td>spotify:artist:163tK9Wjr9P9DmM0AVK7lm</td>\n",
       "    </tr>\n",
       "    <tr>\n",
       "      <th>97</th>\n",
       "      <td>{'spotify': 'https://open.spotify.com/artist/2...</td>\n",
       "      <td>{'href': None, 'total': 5828285}</td>\n",
       "      <td>[complextro, edm, german techno, pop, pop dance]</td>\n",
       "      <td>https://api.spotify.com/v1/artists/2qxJFvFYMED...</td>\n",
       "      <td>2qxJFvFYMEDqd7ui6kSAcq</td>\n",
       "      <td>[{'height': 640, 'url': 'https://i.scdn.co/ima...</td>\n",
       "      <td>Zedd</td>\n",
       "      <td>73</td>\n",
       "      <td>artist</td>\n",
       "      <td>spotify:artist:2qxJFvFYMEDqd7ui6kSAcq</td>\n",
       "    </tr>\n",
       "    <tr>\n",
       "      <th>98</th>\n",
       "      <td>{'spotify': 'https://open.spotify.com/artist/2...</td>\n",
       "      <td>{'href': None, 'total': 13696362}</td>\n",
       "      <td>[dance pop, pop]</td>\n",
       "      <td>https://api.spotify.com/v1/artists/26dSoYclwsY...</td>\n",
       "      <td>26dSoYclwsYLMAKD3tpOr4</td>\n",
       "      <td>[{'height': 640, 'url': 'https://i.scdn.co/ima...</td>\n",
       "      <td>Britney Spears</td>\n",
       "      <td>80</td>\n",
       "      <td>artist</td>\n",
       "      <td>spotify:artist:26dSoYclwsYLMAKD3tpOr4</td>\n",
       "    </tr>\n",
       "    <tr>\n",
       "      <th>99</th>\n",
       "      <td>{'spotify': 'https://open.spotify.com/artist/7...</td>\n",
       "      <td>{'href': None, 'total': 23475540}</td>\n",
       "      <td>[garage rock, modern rock, permanent wave, roc...</td>\n",
       "      <td>https://api.spotify.com/v1/artists/7Ln80lUS6He...</td>\n",
       "      <td>7Ln80lUS6He07XvHI8qqHH</td>\n",
       "      <td>[{'height': 640, 'url': 'https://i.scdn.co/ima...</td>\n",
       "      <td>Arctic Monkeys</td>\n",
       "      <td>86</td>\n",
       "      <td>artist</td>\n",
       "      <td>spotify:artist:7Ln80lUS6He07XvHI8qqHH</td>\n",
       "    </tr>\n",
       "  </tbody>\n",
       "</table>\n",
       "<p>100 rows × 10 columns</p>\n",
       "</div>"
      ],
      "text/plain": [
       "                                        external_urls  \\\n",
       "0   {'spotify': 'https://open.spotify.com/artist/3...   \n",
       "1   {'spotify': 'https://open.spotify.com/artist/5...   \n",
       "2   {'spotify': 'https://open.spotify.com/artist/2...   \n",
       "3   {'spotify': 'https://open.spotify.com/artist/5...   \n",
       "4   {'spotify': 'https://open.spotify.com/artist/1...   \n",
       "..                                                ...   \n",
       "95  {'spotify': 'https://open.spotify.com/artist/6...   \n",
       "96  {'spotify': 'https://open.spotify.com/artist/1...   \n",
       "97  {'spotify': 'https://open.spotify.com/artist/2...   \n",
       "98  {'spotify': 'https://open.spotify.com/artist/2...   \n",
       "99  {'spotify': 'https://open.spotify.com/artist/7...   \n",
       "\n",
       "                            followers  \\\n",
       "0   {'href': None, 'total': 84055324}   \n",
       "1   {'href': None, 'total': 23776154}   \n",
       "2   {'href': None, 'total': 26781399}   \n",
       "3   {'href': None, 'total': 58145352}   \n",
       "4   {'href': None, 'total': 79100712}   \n",
       "..                                ...   \n",
       "95  {'href': None, 'total': 25921706}   \n",
       "96   {'href': None, 'total': 9880892}   \n",
       "97   {'href': None, 'total': 5828285}   \n",
       "98  {'href': None, 'total': 13696362}   \n",
       "99  {'href': None, 'total': 23475540}   \n",
       "\n",
       "                                               genres  \\\n",
       "0   [canadian hip hop, canadian pop, hip hop, pop ...   \n",
       "1                         [chicago rap, hip hop, rap]   \n",
       "2   [conscious hip hop, hip hop, rap, west coast rap]   \n",
       "3            [barbadian pop, pop, urban contemporary]   \n",
       "4      [canadian contemporary r&b, canadian pop, pop]   \n",
       "..                                                ...   \n",
       "95                               [pop, post-teen pop]   \n",
       "96               [art pop, metropopolis, nz pop, pop]   \n",
       "97   [complextro, edm, german techno, pop, pop dance]   \n",
       "98                                   [dance pop, pop]   \n",
       "99  [garage rock, modern rock, permanent wave, roc...   \n",
       "\n",
       "                                                 href                      id  \\\n",
       "0   https://api.spotify.com/v1/artists/3TVXtAsR1In...  3TVXtAsR1Inumwj472S9r4   \n",
       "1   https://api.spotify.com/v1/artists/5K4W6rqBFWD...  5K4W6rqBFWDnAN6FQUkS6x   \n",
       "2   https://api.spotify.com/v1/artists/2YZyLoL8N0W...  2YZyLoL8N0Wb9xBt1NhZWg   \n",
       "3   https://api.spotify.com/v1/artists/5pKCCKE2ajJ...  5pKCCKE2ajJHZ9KAiaK11H   \n",
       "4   https://api.spotify.com/v1/artists/1Xyo4u8uXC1...  1Xyo4u8uXC1ZmMpatF05PJ   \n",
       "..                                                ...                     ...   \n",
       "95  https://api.spotify.com/v1/artists/6S2OmqARrze...  6S2OmqARrzebs0tKUEyXyp   \n",
       "96  https://api.spotify.com/v1/artists/163tK9Wjr9P...  163tK9Wjr9P9DmM0AVK7lm   \n",
       "97  https://api.spotify.com/v1/artists/2qxJFvFYMED...  2qxJFvFYMEDqd7ui6kSAcq   \n",
       "98  https://api.spotify.com/v1/artists/26dSoYclwsY...  26dSoYclwsYLMAKD3tpOr4   \n",
       "99  https://api.spotify.com/v1/artists/7Ln80lUS6He...  7Ln80lUS6He07XvHI8qqHH   \n",
       "\n",
       "                                               images            name  \\\n",
       "0   [{'height': 640, 'url': 'https://i.scdn.co/ima...           Drake   \n",
       "1   [{'height': 640, 'url': 'https://i.scdn.co/ima...      Kanye West   \n",
       "2   [{'height': 640, 'url': 'https://i.scdn.co/ima...  Kendrick Lamar   \n",
       "3   [{'height': 640, 'url': 'https://i.scdn.co/ima...         Rihanna   \n",
       "4   [{'height': 640, 'url': 'https://i.scdn.co/ima...      The Weeknd   \n",
       "..                                                ...             ...   \n",
       "95  [{'height': 640, 'url': 'https://i.scdn.co/ima...     Demi Lovato   \n",
       "96  [{'height': 640, 'url': 'https://i.scdn.co/ima...           Lorde   \n",
       "97  [{'height': 640, 'url': 'https://i.scdn.co/ima...            Zedd   \n",
       "98  [{'height': 640, 'url': 'https://i.scdn.co/ima...  Britney Spears   \n",
       "99  [{'height': 640, 'url': 'https://i.scdn.co/ima...  Arctic Monkeys   \n",
       "\n",
       "    popularity    type                                    uri  \n",
       "0           96  artist  spotify:artist:3TVXtAsR1Inumwj472S9r4  \n",
       "1           94  artist  spotify:artist:5K4W6rqBFWDnAN6FQUkS6x  \n",
       "2           88  artist  spotify:artist:2YZyLoL8N0Wb9xBt1NhZWg  \n",
       "3           90  artist  spotify:artist:5pKCCKE2ajJHZ9KAiaK11H  \n",
       "4           95  artist  spotify:artist:1Xyo4u8uXC1ZmMpatF05PJ  \n",
       "..         ...     ...                                    ...  \n",
       "95          77  artist  spotify:artist:6S2OmqARrzebs0tKUEyXyp  \n",
       "96          75  artist  spotify:artist:163tK9Wjr9P9DmM0AVK7lm  \n",
       "97          73  artist  spotify:artist:2qxJFvFYMEDqd7ui6kSAcq  \n",
       "98          80  artist  spotify:artist:26dSoYclwsYLMAKD3tpOr4  \n",
       "99          86  artist  spotify:artist:7Ln80lUS6He07XvHI8qqHH  \n",
       "\n",
       "[100 rows x 10 columns]"
      ]
     },
     "execution_count": 21,
     "metadata": {},
     "output_type": "execute_result"
    }
   ],
   "source": [
    "# To display the last row. The length will need to be used to update the increment of a= ___ + inc\n",
    "# to continue from when the previous query stopped.\n",
    "artists_features_df"
   ]
  },
  {
   "cell_type": "code",
   "execution_count": 32,
   "metadata": {},
   "outputs": [],
   "source": [
    "# Pick a file name that describes where the slice begins (here is starts ar 2,000,000)\n",
    "artists_features_df.to_csv('artists_genres.csv', index=False)"
   ]
  }
 ],
 "metadata": {
  "kernelspec": {
   "display_name": "dev",
   "language": "python",
   "name": "python3"
  },
  "language_info": {
   "codemirror_mode": {
    "name": "ipython",
    "version": 3
   },
   "file_extension": ".py",
   "mimetype": "text/x-python",
   "name": "python",
   "nbconvert_exporter": "python",
   "pygments_lexer": "ipython3",
   "version": "3.10.13"
  }
 },
 "nbformat": 4,
 "nbformat_minor": 2
}
