{
 "cells": [
  {
   "cell_type": "code",
   "execution_count": 1,
   "id": "8471dc3b-8be2-48a6-a5c1-85832cdc6025",
   "metadata": {},
   "outputs": [],
   "source": [
    "from sqlalchemy import URL\n",
    "\n",
    "url_object = URL.create(\n",
    "    \"postgresql\",\n",
    "    username=\"---------\",\n",
    "    password=\"----------\",  \n",
    "    host=\"-----------\",\n",
    "    database=\"----------\",\n",
    ")"
   ]
  },
  {
   "cell_type": "code",
   "execution_count": 2,
   "id": "28cba4ea-cae4-429e-aba5-9cf7d9f8a950",
   "metadata": {},
   "outputs": [],
   "source": [
    "from sqlalchemy import create_engine\n",
    "\n",
    "conn = create_engine(url_object).connect()"
   ]
  },
  {
   "cell_type": "code",
   "execution_count": null,
   "id": "87cf2a45-d59b-4f1a-bcdf-9ef6109a6c6c",
   "metadata": {},
   "outputs": [],
   "source": [
    "import pandas as pd\n",
    "\n",
    "# Request the `track_features` table \n",
    "playlist_mean_df = pd.read_sql_table(\"playlist_stat_mean\", conn)"
   ]
  },
  {
   "cell_type": "code",
   "execution_count": null,
   "id": "b60481d2-21b4-49c6-a886-454315047b55",
   "metadata": {},
   "outputs": [],
   "source": [
    "# Write `track_features_df` to csv file\n",
    "playlist_mean_df.to_csv('Resources/playlist_mean.csv')"
   ]
  },
  {
   "cell_type": "code",
   "execution_count": null,
   "id": "48f52586-4042-4099-8609-cfd825b84b2c",
   "metadata": {},
   "outputs": [],
   "source": [
    "conn.close()"
   ]
  }
 ],
 "metadata": {
  "kernelspec": {
   "display_name": "Python 3 (ipykernel)",
   "language": "python",
   "name": "python3"
  },
  "language_info": {
   "codemirror_mode": {
    "name": "ipython",
    "version": 3
   },
   "file_extension": ".py",
   "mimetype": "text/x-python",
   "name": "python",
   "nbconvert_exporter": "python",
   "pygments_lexer": "ipython3",
   "version": "3.11.4"
  }
 },
 "nbformat": 4,
 "nbformat_minor": 5
}
